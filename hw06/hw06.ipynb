{
 "cells": [
  {
   "cell_type": "code",
   "execution_count": 1,
   "id": "2bb27364",
   "metadata": {},
   "outputs": [],
   "source": [
    "; Q1: Thane of Cadr\n",
    ";Define the procedures cadr and caddr, which return the second and third elements of a list, respectively:\n",
    "\n",
    "(define (cddr s)\n",
    "  (cdr (cdr s)))\n",
    "\n",
    "(define (cadr s)\n",
    "  'YOUR-CODE-HERE\n",
    "  (car (cdr s))\n",
    ")\n",
    "\n",
    "(define (caddr s)\n",
    "  'YOUR-CODE-HERE\n",
    "  (car (cddr s))\n",
    ")"
   ]
  },
  {
   "cell_type": "code",
   "execution_count": 2,
   "id": "a309d302",
   "metadata": {},
   "outputs": [
    {
     "data": {
      "text/plain": [
       "(3 4 5)"
      ]
     },
     "execution_count": 2,
     "metadata": {},
     "output_type": "execute_result"
    }
   ],
   "source": [
    "(cddr (list 1 2 3 4 5))"
   ]
  },
  {
   "cell_type": "code",
   "execution_count": 3,
   "id": "abb5d84d",
   "metadata": {},
   "outputs": [
    {
     "data": {
      "text/plain": [
       "2"
      ]
     },
     "execution_count": 3,
     "metadata": {},
     "output_type": "execute_result"
    }
   ],
   "source": [
    "(cadr (list 1 2 3 4 5))"
   ]
  },
  {
   "cell_type": "code",
   "execution_count": 4,
   "id": "b82ae5fd",
   "metadata": {},
   "outputs": [
    {
     "data": {
      "text/plain": [
       "3"
      ]
     },
     "execution_count": 4,
     "metadata": {},
     "output_type": "execute_result"
    }
   ],
   "source": [
    "(caddr (list 1 2 3 4 5))"
   ]
  },
  {
   "cell_type": "code",
   "execution_count": 5,
   "id": "cf701c2e",
   "metadata": {},
   "outputs": [],
   "source": [
    ";Q2: Sign\n",
    ";Using a cond expression, define a procedure sign that takes in one parameter num \n",
    ";and returns -1 if num is negative, 0 if num is zero, and 1 if num is positive.\n",
    "\n",
    "(define (sign num)\n",
    "  'YOUR-CODE-HERE\n",
    "  (cond ((< num 0) -1)\n",
    "        ((= num 0) 0)\n",
    "        ((> num 0) 1))\n",
    ")"
   ]
  },
  {
   "cell_type": "code",
   "execution_count": 6,
   "id": "7270c843",
   "metadata": {},
   "outputs": [
    {
     "data": {
      "text/plain": [
       "1"
      ]
     },
     "execution_count": 6,
     "metadata": {},
     "output_type": "execute_result"
    }
   ],
   "source": [
    "(sign 10)"
   ]
  },
  {
   "cell_type": "code",
   "execution_count": 7,
   "id": "2b7cff91",
   "metadata": {},
   "outputs": [],
   "source": [
    ";Q3: Pow\n",
    "(define (square x) (* x x))\n",
    "\n",
    "(define (pow x y)\n",
    "  'YOUR-CODE-HERE\n",
    "  (cond ((= y 0) 1)\n",
    "        ((= y 1) x)\n",
    "        ((= y 2) (square x))\n",
    "        ((= (remainder y 2) 0) (square (pow x (/ y 2))))\n",
    "        ((= (remainder y 2) 1)(* x (square (pow x (/ (- y 1) 2))))))\n",
    ")"
   ]
  },
  {
   "cell_type": "code",
   "execution_count": 8,
   "id": "40bcaa41",
   "metadata": {},
   "outputs": [
    {
     "data": {
      "text/plain": [
       "32"
      ]
     },
     "execution_count": 8,
     "metadata": {},
     "output_type": "execute_result"
    }
   ],
   "source": [
    "(pow 2 5)"
   ]
  },
  {
   "cell_type": "code",
   "execution_count": null,
   "id": "961d6d37",
   "metadata": {},
   "outputs": [],
   "source": []
  }
 ],
 "metadata": {
  "kernelspec": {
   "display_name": "Calysto Scheme 3",
   "language": "scheme",
   "name": "calysto_scheme"
  },
  "language_info": {
   "codemirror_mode": {
    "name": "scheme"
   },
   "mimetype": "text/x-scheme",
   "name": "scheme",
   "pygments_lexer": "scheme"
  }
 },
 "nbformat": 4,
 "nbformat_minor": 5
}
